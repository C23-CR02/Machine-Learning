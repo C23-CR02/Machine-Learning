{
  "cells": [
    {
      "cell_type": "code",
      "execution_count": 4,
      "metadata": {
        "id": "rD25N4YEmu6y",
        "colab": {
          "base_uri": "https://localhost:8080/"
        },
        "outputId": "683d9656-a96f-405d-f9f7-de25a3a6be80"
      },
      "outputs": [
        {
          "output_type": "stream",
          "name": "stdout",
          "text": [
            "Drive already mounted at /content/drive; to attempt to forcibly remount, call drive.mount(\"/content/drive\", force_remount=True).\n"
          ]
        }
      ],
      "source": [
        "# from google.colab import drive\n",
        "# drive.mount('/content/drive')"
      ]
    },
    {
      "cell_type": "code",
      "execution_count": 5,
      "metadata": {
        "id": "laKzsfojmpBI"
      },
      "outputs": [],
      "source": [
        "import pandas as pd\n",
        "import numpy as np\n",
        "import sklearn\n",
        "import matplotlib.pyplot as plt\n",
        "import warnings\n",
        "from statsmodels.tsa.stattools import adfuller\n",
        "from statsmodels.graphics.tsaplots import plot_pacf\n",
        "from statsmodels.graphics.tsaplots import plot_acf\n",
        "from statsmodels.tsa.arima.model import ARIMA\n",
        "from sklearn.metrics import mean_squared_error\n",
        "from sklearn.metrics import mean_absolute_error\n",
        "from itertools import groupby\n",
        "from datetime import datetime, timedelta\n",
        "from sklearn import metrics\n",
        "from sklearn.model_selection import train_test_split\n",
        "\n",
        "warnings.filterwarnings(\"ignore\")\n",
        "pd.options.mode.chained_assignment = None  # default='warn'\n",
        "%matplotlib inline"
      ]
    },
    {
      "cell_type": "code",
      "execution_count": 6,
      "metadata": {
        "id": "XSR6b_IWmpBL"
      },
      "outputs": [],
      "source": [
        "# full_data = pd.read_csv(\"/content/drive/MyDrive/Capstone Bangkit/CPU_616.csv\")\n",
        "print('Opening docs...')\n",
        "full_data = pd.read_csv(\"CPU_616.csv\")\n",
        "full_data = full_data.reset_index(drop=True)"
      ]
    },
    {
      "cell_type": "code",
      "execution_count": 7,
      "metadata": {
        "id": "UY39DUSBpAlx"
      },
      "outputs": [],
      "source": [
        "# Converting CPU Usage to Float Datatype\n",
        "\n",
        "full_data['cpu_used'] = (full_data['cpu_used'].str.replace('%', '').astype(float)) / 100\n",
        "full_data = full_data[[\"created_at\", \"cpu_used\"]]"
      ]
    },
    {
      "cell_type": "code",
      "source": [
        "full_data['created_at'] = pd.to_datetime(full_data['created_at'])"
      ],
      "metadata": {
        "id": "S5o-N_oxrv85"
      },
      "execution_count": 8,
      "outputs": []
    },
    {
      "cell_type": "markdown",
      "metadata": {
        "id": "Zj58G_ltmpBM"
      },
      "source": [
        "### Train-Test Split"
      ]
    },
    {
      "cell_type": "code",
      "execution_count": 9,
      "metadata": {
        "id": "r2jMvgJ4mpBM"
      },
      "outputs": [],
      "source": [
        "# Splitting the dataset\n",
        "x_train, x_test, y_train, y_test = train_test_split(full_data.iloc[:, :-1], full_data.iloc[:, -1], \n",
        "                                                    test_size=0.2, shuffle=False)"
      ]
    },
    {
      "cell_type": "markdown",
      "metadata": {
        "id": "KiCqtX_7mpB5"
      },
      "source": [
        "### Modeling: ARIMA Univariate Time Series Forecasting"
      ]
    },
    {
      "cell_type": "markdown",
      "metadata": {
        "id": "NRZ3DQFMmpB7"
      },
      "source": [
        "#### Stationarity Test"
      ]
    },
    {
      "cell_type": "code",
      "execution_count": 10,
      "metadata": {
        "id": "dvIAaciampB7"
      },
      "outputs": [],
      "source": [
        "from statsmodels.tsa.stattools import adfuller\n",
        "\n",
        "def adfullertest(data):\n",
        "    result = adfuller(data)\n",
        "    print(f'ADF Statistics: {result[0]}')\n",
        "    print(f'p-Value: {result[1]}')\n",
        "    if result[1] < 0.05:\n",
        "        print('Stationary')\n",
        "    else:\n",
        "        print('Non-Stationary')"
      ]
    },
    {
      "cell_type": "markdown",
      "metadata": {
        "id": "HWRMKiOqmpB8"
      },
      "source": [
        "Augmented Dickey-Fuller (ADF test) merupakan pengujian statistik untuk mengukur stationarity data. Pengujian ini memiliki hipotesis nol (H0) bahwa data tidak stasioner. Umumnya jika p-value < 0.05, maka dianggap telah cukup bukti untuk menolak H0 dan menerima H1 bahwa data telah memiliki sifat stasioner."
      ]
    },
    {
      "cell_type": "code",
      "execution_count": 11,
      "metadata": {
        "colab": {
          "base_uri": "https://localhost:8080/"
        },
        "id": "Qvz1i1bfmpB8",
        "outputId": "aa31d685-b769-4a58-ee37-8293a6b3c18a"
      },
      "outputs": [
        {
          "output_type": "stream",
          "name": "stdout",
          "text": [
            "ADF Statistics: -6.152189010007072\n",
            "p-Value: 7.515677911141271e-08\n",
            "Stationary\n"
          ]
        }
      ],
      "source": [
        "# adfullertest(y_train)"
      ]
    },
    {
      "cell_type": "markdown",
      "metadata": {
        "id": "v1j2VCS5mpB8"
      },
      "source": [
        "Hasil ADF Test menunjukkan p-value > 0.05. Dari nilai ini dapat ditarik kesimpulan bahwa data masih sangat jauh dari sifat stasioner untuk dapat dijadikan sebagai input ARIMA. Untuk itu, akan digunakan teknik differencing untuk menghilangkan trend dari data dan sekaligus membuat data menjadi lebih stasioner."
      ]
    },
    {
      "cell_type": "markdown",
      "metadata": {
        "id": "cy54aFxZmpCH"
      },
      "source": [
        "### ARIMA Model Hyperparameter Tuning"
      ]
    },
    {
      "cell_type": "code",
      "execution_count": 12,
      "metadata": {
        "id": "NITWK9_CmpCH"
      },
      "outputs": [],
      "source": [
        "# Model Evaluation Functions\n",
        "from sklearn.metrics import mean_squared_error\n",
        "from sklearn.metrics import mean_absolute_error\n",
        "\n",
        "# Evaluate an ARIMA model for a given order (p,d,q)\n",
        "def evaluate_arima_model(df_train_y, df_test_y, arima_order):\n",
        "    # Prepare training dataset\n",
        "    train_size = int(len(df_train_y))\n",
        "    test_size = int(len(df_test_y))\n",
        "    train, test = df_train_y, df_test_y\n",
        "    # Make predictions\n",
        "    model = ARIMA(df_train_y, order=arima_order)\n",
        "    model_fit = model.fit()\n",
        "    predictions = model_fit.forecast(test_size)\n",
        "    # Calculate out of sample error\n",
        "    rmse = (mean_squared_error(test, predictions))**0.5\n",
        "    mae = mean_absolute_error(test, predictions)\n",
        "    return rmse, mae\n",
        " \n",
        "# Evaluate combinations of p, d and q values for an ARIMA model\n",
        "def evaluate_models(df_train_y, df_test_y, p_values, d_values, q_values):\n",
        "    best_score, best_cfg, best_mae = float(\"inf\"), None, float(\"inf\")\n",
        "    for p in p_values:\n",
        "        for d in d_values:\n",
        "            for q in q_values:\n",
        "                order = (p,d,q)\n",
        "                try:\n",
        "                    rmse, mae = evaluate_arima_model(df_train_y, df_test_y, order)\n",
        "                    if rmse < best_score:\n",
        "                        best_score, best_cfg, best_mae = rmse, order, mae\n",
        "                    print('ARIMA%s RMSE=%.3f MAE=%.3f' % (order,rmse,mae))\n",
        "                except:\n",
        "                    continue\n",
        "    return best_cfg\n",
        "    # print('Best ARIMA %s RMSE = %.3f MAE = %.3f' % (best_cfg, best_score, best_mae))\n",
        "    "
      ]
    },
    {
      "cell_type": "code",
      "execution_count": 13,
      "metadata": {
        "colab": {
          "base_uri": "https://localhost:8080/"
        },
        "id": "8EfSl-vDmpCH",
        "outputId": "af1f3b08-4eb4-4421-e3ec-766937336da8",
        "scrolled": true
      },
      "outputs": [
        {
          "output_type": "stream",
          "name": "stdout",
          "text": [
            "ARIMA(1, 1, 1) RMSE=0.024 MAE=0.010\n",
            "ARIMA(1, 1, 2) RMSE=0.024 MAE=0.010\n"
          ]
        }
      ],
      "source": [
        "# HATI-HATI LAMA\n",
        "\n",
        "# Evaluate parameters\n",
        "# p_values = [1, 2]\n",
        "# d_values = [0, 1]\n",
        "# q_values = [1, 2]\n",
        "\n",
        "p_values = [1]\n",
        "d_values = [1]\n",
        "q_values = [1, 2]\n",
        "\n",
        "p, d, q = evaluate_models(y_train, y_test, p_values, d_values, q_values)"
      ]
    },
    {
      "cell_type": "markdown",
      "source": [
        "#### Forecasting Future Values of CPU Usage"
      ],
      "metadata": {
        "id": "5s3wJtSRpx4Y"
      }
    },
    {
      "cell_type": "code",
      "source": [
        "model = ARIMA(full_data['cpu_used'], order=(p,d,q))\n",
        "model_fit = model.fit()"
      ],
      "metadata": {
        "id": "VAal3M67tppe"
      },
      "execution_count": 14,
      "outputs": []
    },
    {
      "cell_type": "code",
      "source": [
        "# Set the number of days to be forecasted\n",
        "forecasted_days = 1\n",
        "\n",
        "# Specify the starting timestamp\n",
        "latest_timestamp = full_data.iloc[-1, 0]\n",
        "interval = timedelta(minutes=60)\n",
        "\n",
        "# Specify the number of times to increment the timestamp\n",
        "num_times = int(forecasted_days * 24 * (60/60))\n",
        "\n",
        "# Create an empty list to store the timestamps\n",
        "timestamps = []\n",
        "\n",
        "# Generate the timestamps\n",
        "for i in range(1, num_times+1):\n",
        "    timestamps.append(latest_timestamp + i * interval)"
      ],
      "metadata": {
        "id": "MfzFuVnluhe3"
      },
      "execution_count": 15,
      "outputs": []
    },
    {
      "cell_type": "code",
      "source": [
        "# Self-predict the exiting data with the trained-model\n",
        "fitting = model_fit.predict(start=0, end=len(full_data)-1)\n",
        "\n",
        "\n",
        "# Forecasting new data\n",
        "forecasts = model_fit.forecast(int(forecasted_days * 24 * (60/60))).T\n",
        "\n",
        "# Outputting the forecasted data\n",
        "forecasts = pd.DataFrame({'Timestamp': timestamps, 'Forecasts': forecasts})"
      ],
      "metadata": {
        "id": "gHserfsxr9J_",
        "colab": {
          "base_uri": "https://localhost:8080/",
          "height": 802
        },
        "outputId": "39b64559-8b68-4dcf-b00f-3ff16c03bd5a"
      },
      "execution_count": 16,
      "outputs": [
        {
          "output_type": "execute_result",
          "data": {
            "text/plain": [
              "                 Timestamp  Forecasts\n",
              "140353 2023-05-04 04:25:00   0.074747\n",
              "140354 2023-05-04 05:25:00   0.073141\n",
              "140355 2023-05-04 06:25:00   0.074744\n",
              "140356 2023-05-04 07:25:00   0.073144\n",
              "140357 2023-05-04 08:25:00   0.074742\n",
              "140358 2023-05-04 09:25:00   0.073147\n",
              "140359 2023-05-04 10:25:00   0.074739\n",
              "140360 2023-05-04 11:25:00   0.073150\n",
              "140361 2023-05-04 12:25:00   0.074736\n",
              "140362 2023-05-04 13:25:00   0.073153\n",
              "140363 2023-05-04 14:25:00   0.074733\n",
              "140364 2023-05-04 15:25:00   0.073155\n",
              "140365 2023-05-04 16:25:00   0.074730\n",
              "140366 2023-05-04 17:25:00   0.073158\n",
              "140367 2023-05-04 18:25:00   0.074727\n",
              "140368 2023-05-04 19:25:00   0.073161\n",
              "140369 2023-05-04 20:25:00   0.074724\n",
              "140370 2023-05-04 21:25:00   0.073164\n",
              "140371 2023-05-04 22:25:00   0.074721\n",
              "140372 2023-05-04 23:25:00   0.073167\n",
              "140373 2023-05-05 00:25:00   0.074718\n",
              "140374 2023-05-05 01:25:00   0.073170\n",
              "140375 2023-05-05 02:25:00   0.074715\n",
              "140376 2023-05-05 03:25:00   0.073173"
            ],
            "text/html": [
              "\n",
              "  <div id=\"df-664acfb3-9ed1-481a-99ad-8616c40482be\">\n",
              "    <div class=\"colab-df-container\">\n",
              "      <div>\n",
              "<style scoped>\n",
              "    .dataframe tbody tr th:only-of-type {\n",
              "        vertical-align: middle;\n",
              "    }\n",
              "\n",
              "    .dataframe tbody tr th {\n",
              "        vertical-align: top;\n",
              "    }\n",
              "\n",
              "    .dataframe thead th {\n",
              "        text-align: right;\n",
              "    }\n",
              "</style>\n",
              "<table border=\"1\" class=\"dataframe\">\n",
              "  <thead>\n",
              "    <tr style=\"text-align: right;\">\n",
              "      <th></th>\n",
              "      <th>Timestamp</th>\n",
              "      <th>Forecasts</th>\n",
              "    </tr>\n",
              "  </thead>\n",
              "  <tbody>\n",
              "    <tr>\n",
              "      <th>140353</th>\n",
              "      <td>2023-05-04 04:25:00</td>\n",
              "      <td>0.074747</td>\n",
              "    </tr>\n",
              "    <tr>\n",
              "      <th>140354</th>\n",
              "      <td>2023-05-04 05:25:00</td>\n",
              "      <td>0.073141</td>\n",
              "    </tr>\n",
              "    <tr>\n",
              "      <th>140355</th>\n",
              "      <td>2023-05-04 06:25:00</td>\n",
              "      <td>0.074744</td>\n",
              "    </tr>\n",
              "    <tr>\n",
              "      <th>140356</th>\n",
              "      <td>2023-05-04 07:25:00</td>\n",
              "      <td>0.073144</td>\n",
              "    </tr>\n",
              "    <tr>\n",
              "      <th>140357</th>\n",
              "      <td>2023-05-04 08:25:00</td>\n",
              "      <td>0.074742</td>\n",
              "    </tr>\n",
              "    <tr>\n",
              "      <th>140358</th>\n",
              "      <td>2023-05-04 09:25:00</td>\n",
              "      <td>0.073147</td>\n",
              "    </tr>\n",
              "    <tr>\n",
              "      <th>140359</th>\n",
              "      <td>2023-05-04 10:25:00</td>\n",
              "      <td>0.074739</td>\n",
              "    </tr>\n",
              "    <tr>\n",
              "      <th>140360</th>\n",
              "      <td>2023-05-04 11:25:00</td>\n",
              "      <td>0.073150</td>\n",
              "    </tr>\n",
              "    <tr>\n",
              "      <th>140361</th>\n",
              "      <td>2023-05-04 12:25:00</td>\n",
              "      <td>0.074736</td>\n",
              "    </tr>\n",
              "    <tr>\n",
              "      <th>140362</th>\n",
              "      <td>2023-05-04 13:25:00</td>\n",
              "      <td>0.073153</td>\n",
              "    </tr>\n",
              "    <tr>\n",
              "      <th>140363</th>\n",
              "      <td>2023-05-04 14:25:00</td>\n",
              "      <td>0.074733</td>\n",
              "    </tr>\n",
              "    <tr>\n",
              "      <th>140364</th>\n",
              "      <td>2023-05-04 15:25:00</td>\n",
              "      <td>0.073155</td>\n",
              "    </tr>\n",
              "    <tr>\n",
              "      <th>140365</th>\n",
              "      <td>2023-05-04 16:25:00</td>\n",
              "      <td>0.074730</td>\n",
              "    </tr>\n",
              "    <tr>\n",
              "      <th>140366</th>\n",
              "      <td>2023-05-04 17:25:00</td>\n",
              "      <td>0.073158</td>\n",
              "    </tr>\n",
              "    <tr>\n",
              "      <th>140367</th>\n",
              "      <td>2023-05-04 18:25:00</td>\n",
              "      <td>0.074727</td>\n",
              "    </tr>\n",
              "    <tr>\n",
              "      <th>140368</th>\n",
              "      <td>2023-05-04 19:25:00</td>\n",
              "      <td>0.073161</td>\n",
              "    </tr>\n",
              "    <tr>\n",
              "      <th>140369</th>\n",
              "      <td>2023-05-04 20:25:00</td>\n",
              "      <td>0.074724</td>\n",
              "    </tr>\n",
              "    <tr>\n",
              "      <th>140370</th>\n",
              "      <td>2023-05-04 21:25:00</td>\n",
              "      <td>0.073164</td>\n",
              "    </tr>\n",
              "    <tr>\n",
              "      <th>140371</th>\n",
              "      <td>2023-05-04 22:25:00</td>\n",
              "      <td>0.074721</td>\n",
              "    </tr>\n",
              "    <tr>\n",
              "      <th>140372</th>\n",
              "      <td>2023-05-04 23:25:00</td>\n",
              "      <td>0.073167</td>\n",
              "    </tr>\n",
              "    <tr>\n",
              "      <th>140373</th>\n",
              "      <td>2023-05-05 00:25:00</td>\n",
              "      <td>0.074718</td>\n",
              "    </tr>\n",
              "    <tr>\n",
              "      <th>140374</th>\n",
              "      <td>2023-05-05 01:25:00</td>\n",
              "      <td>0.073170</td>\n",
              "    </tr>\n",
              "    <tr>\n",
              "      <th>140375</th>\n",
              "      <td>2023-05-05 02:25:00</td>\n",
              "      <td>0.074715</td>\n",
              "    </tr>\n",
              "    <tr>\n",
              "      <th>140376</th>\n",
              "      <td>2023-05-05 03:25:00</td>\n",
              "      <td>0.073173</td>\n",
              "    </tr>\n",
              "  </tbody>\n",
              "</table>\n",
              "</div>\n",
              "      <button class=\"colab-df-convert\" onclick=\"convertToInteractive('df-664acfb3-9ed1-481a-99ad-8616c40482be')\"\n",
              "              title=\"Convert this dataframe to an interactive table.\"\n",
              "              style=\"display:none;\">\n",
              "        \n",
              "  <svg xmlns=\"http://www.w3.org/2000/svg\" height=\"24px\"viewBox=\"0 0 24 24\"\n",
              "       width=\"24px\">\n",
              "    <path d=\"M0 0h24v24H0V0z\" fill=\"none\"/>\n",
              "    <path d=\"M18.56 5.44l.94 2.06.94-2.06 2.06-.94-2.06-.94-.94-2.06-.94 2.06-2.06.94zm-11 1L8.5 8.5l.94-2.06 2.06-.94-2.06-.94L8.5 2.5l-.94 2.06-2.06.94zm10 10l.94 2.06.94-2.06 2.06-.94-2.06-.94-.94-2.06-.94 2.06-2.06.94z\"/><path d=\"M17.41 7.96l-1.37-1.37c-.4-.4-.92-.59-1.43-.59-.52 0-1.04.2-1.43.59L10.3 9.45l-7.72 7.72c-.78.78-.78 2.05 0 2.83L4 21.41c.39.39.9.59 1.41.59.51 0 1.02-.2 1.41-.59l7.78-7.78 2.81-2.81c.8-.78.8-2.07 0-2.86zM5.41 20L4 18.59l7.72-7.72 1.47 1.35L5.41 20z\"/>\n",
              "  </svg>\n",
              "      </button>\n",
              "      \n",
              "  <style>\n",
              "    .colab-df-container {\n",
              "      display:flex;\n",
              "      flex-wrap:wrap;\n",
              "      gap: 12px;\n",
              "    }\n",
              "\n",
              "    .colab-df-convert {\n",
              "      background-color: #E8F0FE;\n",
              "      border: none;\n",
              "      border-radius: 50%;\n",
              "      cursor: pointer;\n",
              "      display: none;\n",
              "      fill: #1967D2;\n",
              "      height: 32px;\n",
              "      padding: 0 0 0 0;\n",
              "      width: 32px;\n",
              "    }\n",
              "\n",
              "    .colab-df-convert:hover {\n",
              "      background-color: #E2EBFA;\n",
              "      box-shadow: 0px 1px 2px rgba(60, 64, 67, 0.3), 0px 1px 3px 1px rgba(60, 64, 67, 0.15);\n",
              "      fill: #174EA6;\n",
              "    }\n",
              "\n",
              "    [theme=dark] .colab-df-convert {\n",
              "      background-color: #3B4455;\n",
              "      fill: #D2E3FC;\n",
              "    }\n",
              "\n",
              "    [theme=dark] .colab-df-convert:hover {\n",
              "      background-color: #434B5C;\n",
              "      box-shadow: 0px 1px 3px 1px rgba(0, 0, 0, 0.15);\n",
              "      filter: drop-shadow(0px 1px 2px rgba(0, 0, 0, 0.3));\n",
              "      fill: #FFFFFF;\n",
              "    }\n",
              "  </style>\n",
              "\n",
              "      <script>\n",
              "        const buttonEl =\n",
              "          document.querySelector('#df-664acfb3-9ed1-481a-99ad-8616c40482be button.colab-df-convert');\n",
              "        buttonEl.style.display =\n",
              "          google.colab.kernel.accessAllowed ? 'block' : 'none';\n",
              "\n",
              "        async function convertToInteractive(key) {\n",
              "          const element = document.querySelector('#df-664acfb3-9ed1-481a-99ad-8616c40482be');\n",
              "          const dataTable =\n",
              "            await google.colab.kernel.invokeFunction('convertToInteractive',\n",
              "                                                     [key], {});\n",
              "          if (!dataTable) return;\n",
              "\n",
              "          const docLinkHtml = 'Like what you see? Visit the ' +\n",
              "            '<a target=\"_blank\" href=https://colab.research.google.com/notebooks/data_table.ipynb>data table notebook</a>'\n",
              "            + ' to learn more about interactive tables.';\n",
              "          element.innerHTML = '';\n",
              "          dataTable['output_type'] = 'display_data';\n",
              "          await google.colab.output.renderOutput(dataTable, element);\n",
              "          const docLink = document.createElement('div');\n",
              "          docLink.innerHTML = docLinkHtml;\n",
              "          element.appendChild(docLink);\n",
              "        }\n",
              "      </script>\n",
              "    </div>\n",
              "  </div>\n",
              "  "
            ]
          },
          "metadata": {},
          "execution_count": 16
        }
      ]
    },
    {
      "cell_type": "code",
      "source": [
        "# import pickle\n",
        "# pickle.dump(predictions, open('predictions.pkl', 'wb'))"
      ],
      "metadata": {
        "id": "2FtkLHE6ws0A"
      },
      "execution_count": 17,
      "outputs": []
    },
    {
      "cell_type": "markdown",
      "source": [
        "#### Visualizing Back-Normalized Forecasted Values"
      ],
      "metadata": {
        "id": "93ZDlxgyqQKE"
      }
    },
    {
      "cell_type": "code",
      "source": [
        "# fig, ax = plt.subplots(1,1,figsize=(14,6))\n",
        "\n",
        "# ax.scatter(full_data[\"created_at\"], \n",
        "#            full_data[\"cpu_used\"], \n",
        "#            label='Data Asli')\n",
        "\n",
        "# ax.scatter(full_data[\"created_at\"], \n",
        "#            fitting, \n",
        "#            label='ARIMA Prediction')\n",
        "\n",
        "# ax.scatter(forecasts['Timestamp'], \n",
        "#            forecasts['Forecasts'], \n",
        "#            label='ARIMA Forecasts')\n",
        "\n",
        "# plt.title('CPU Usage with ARIMA')\n",
        "# plt.grid()\n",
        "# plt.legend()"
      ],
      "metadata": {
        "id": "8Ah-FcqKqR68",
        "colab": {
          "base_uri": "https://localhost:8080/",
          "height": 473
        },
        "outputId": "1e0c5e8d-9b19-4715-aabb-8488c34cef8f"
      },
      "execution_count": 18,
      "outputs": [
        {
          "output_type": "execute_result",
          "data": {
            "text/plain": [
              "<matplotlib.legend.Legend at 0x7fbe742a2b00>"
            ]
          },
          "metadata": {},
          "execution_count": 18
        },
        {
          "output_type": "display_data",
          "data": {
            "text/plain": [
              "<Figure size 1400x600 with 1 Axes>"
            ],
            "image/png": "[encoded data removed]"
          },
          "metadata": {}
        }
      ]
    },
    {
      "cell_type": "code",
      "source": [
        "# fig, ax = plt.subplots(1,1,figsize=(14,6))\n",
        "\n",
        "# ax.plot(full_data[\"created_at\"], \n",
        "#            full_data[\"cpu_used\"], \n",
        "#            label='Data Asli')\n",
        "\n",
        "# ax.plot(full_data[\"created_at\"], \n",
        "#            fitting, \n",
        "#            label='ARIMA Prediction')\n",
        "\n",
        "# ax.plot(forecasts['Timestamp'], \n",
        "#            forecasts['Forecasts'], \n",
        "#            label='ARIMA Forecasts')\n",
        "\n",
        "# plt.title('CPU Usage with ARIMA')\n",
        "# plt.grid()\n",
        "# plt.legend()"
      ],
      "metadata": {
        "colab": {
          "base_uri": "https://localhost:8080/",
          "height": 473
        },
        "id": "MpvEIemO3avY",
        "outputId": "6662f0e6-a4fa-40f0-9717-32c3524fb8d2"
      },
      "execution_count": 19,
      "outputs": [
        {
          "output_type": "execute_result",
          "data": {
            "text/plain": [
              "<matplotlib.legend.Legend at 0x7fbe741cb4f0>"
            ]
          },
          "metadata": {},
          "execution_count": 19
        },
        {
          "output_type": "display_data",
          "data": {
            "text/plain": [
              "<Figure size 1400x600 with 1 Axes>"
            ],
            "image/png": "[encoded data removed]"
          },
          "metadata": {}
        }
      ]
    },
    {
      "cell_type": "markdown",
      "source": [
        "## Additional Resource Prediction"
      ],
      "metadata": {
        "id": "_GdgbG0ZCGUe"
      }
    },
    {
      "cell_type": "code",
      "source": [
        "# Search for CPU Usage percentages that are equal or more than 80%\n",
        "current_core = 1\n",
        "core_upgrade_options = {1: 2,\n",
        "                        2: 4,\n",
        "                        4: 6,\n",
        "                        6: 8}\n",
        "\n",
        "need_add = forecasts[forecasts['Forecasts'] >= 0.8]\n",
        "need_add['Forecasts'] = (need_add['Forecasts']*100).round(4)\n",
        "need_add['Forecasts'] = need_add['Forecasts'].astype(str) + '%'\n",
        "\n",
        "if need_add.empty:\n",
        "  print(f\"Your forecasted CPU Usage value in 30 days ahead will be {forecasts['Forecasts'].iloc[-1] * 100:.4f}%\")\n",
        "else:\n",
        "  print(\"Based on your usage pattern, you will reach more than 80% of your current available CPU core!\")\n",
        "  print(f\"We recommend you to upgrade your CPU core to {core_upgrade_options[current_core]} CPU core(s)\")\n",
        "  print()\n",
        "  print(need_add)"
      ],
      "metadata": {
        "colab": {
          "base_uri": "https://localhost:8080/"
        },
        "id": "WfpHppeUCJXr",
        "outputId": "052336d5-d236-46d2-9f1f-e8777caa315a"
      },
      "execution_count": 20,
      "outputs": [
        {
          "output_type": "stream",
          "name": "stdout",
          "text": [
            "Based on your usage pattern, you will reach more than 80% of your current available CPU core!\n",
            "We recommend you to upgrade your CPU core to 2 CPU core(s)\n",
            "\n",
            "                 Timestamp Forecasts\n",
            "140353 2023-05-04 04:25:00   7.4747%\n",
            "140355 2023-05-04 06:25:00   7.4744%\n",
            "140357 2023-05-04 08:25:00   7.4742%\n"
          ]
        }
      ]
    },
    {
      "cell_type": "code",
      "source": [
        "# Saving the list of forecasted data which will exceed current resource package\n",
        "need_add.to_csv('exceeded_resource_data.csv', index=False)"
      ],
      "metadata": {
        "id": "XKXYZnMVroEQ"
      },
      "execution_count": null,
      "outputs": []
    },
    {
      "cell_type": "markdown",
      "source": [
        "## Anomaly Detection"
      ],
      "metadata": {
        "id": "s_pFvq2FHxnm"
      }
    },
    {
      "cell_type": "code",
      "source": [
        "df_dummy = full_data.copy()\n",
        "df_dummy[\"fittings\"] = fitting\n",
        "df_dummy['Error'] = df_dummy['cpu_used'] - df_dummy['fittings']"
      ],
      "metadata": {
        "id": "TVuWwcN1vHLR"
      },
      "execution_count": 21,
      "outputs": []
    },
    {
      "cell_type": "markdown",
      "source": [
        "### Dynamic Thresholding + Consecutive Occurences"
      ],
      "metadata": {
        "id": "ELHQa-QE7bqp"
      }
    },
    {
      "cell_type": "code",
      "source": [
        "data_copy = df_dummy.copy()\n",
        "std_coef = 1.5  # Besar standar deviasi penyimpangan dari mean window\n",
        "window = int(6)  # Windowing\n",
        "consecutive = 3  # Frekuensi minimum kemunculan outliers berturut-turut\n",
        "\n",
        "data_copy['mean'] = pd.Series(data_copy['Error'].rolling(window=window).mean())\n",
        "data_copy['std'] = pd.Series(data_copy['Error'].rolling(window=window).std())\n",
        "data_copy['up_thres'] = pd.Series(data_copy['Error'].rolling(window=window).mean()) \\\n",
        "                    + (std_coef * pd.Series(data_copy['Error'].rolling(window=window).std()))\n",
        "data_copy['down_thres'] = pd.Series(data_copy['Error'].rolling(window=window).mean()) \\\n",
        "                    - (std_coef * pd.Series(data_copy['Error'].rolling(window=window).std()))\n",
        "\n",
        "out_index = data_copy.index[(data_copy['Error'] > data_copy['up_thres']) | (data_copy['Error'] < data_copy['down_thres'])]\n",
        "\n",
        "data_copy['outliers_bool'] = [False for _ in range(len(data_copy))]\n",
        "data_copy['outliers_bool'][out_index] = True"
      ],
      "metadata": {
        "id": "oxVkbKCW7gcW"
      },
      "execution_count": 22,
      "outputs": []
    },
    {
      "cell_type": "code",
      "source": [
        "greater_th = [list(g) for k, g in groupby(data_copy['outliers_bool']==True)]\n",
        "\n",
        "for i in range(len(greater_th)):\n",
        "  if greater_th[i].count(True) < consecutive:\n",
        "    greater_th[i] = [False for _ in greater_th[i]]\n",
        "\n",
        "greater_th = pd.DataFrame({\"Outliers\": [element for sublist in greater_th for element in sublist]})\n",
        "updated_out_index = greater_th[greater_th[\"Outliers\"]==True].index"
      ],
      "metadata": {
        "id": "QFC_8xCr_6_G"
      },
      "execution_count": 23,
      "outputs": []
    },
    {
      "cell_type": "code",
      "source": [
        "# fig, ax = plt.subplots(1, 1, figsize=(14,7))\n",
        "# ax.scatter(data_copy['created_at'], data_copy['cpu_used'], label='Data Asli')\n",
        "# ax.scatter(data_copy['created_at'][updated_out_index], data_copy['cpu_used'][updated_out_index], c='Red', label='Outliers')\n",
        "# plt.grid()\n",
        "# plt.legend()"
      ],
      "metadata": {
        "colab": {
          "base_uri": "https://localhost:8080/",
          "height": 517
        },
        "id": "sj0x_rPICqxK",
        "outputId": "486867d3-c18f-4e55-851b-32ade7514200"
      },
      "execution_count": null,
      "outputs": [
        {
          "output_type": "execute_result",
          "data": {
            "text/plain": [
              "<matplotlib.legend.Legend at 0x7f9c20f2dea0>"
            ]
          },
          "metadata": {},
          "execution_count": 292
        },
        {
          "output_type": "display_data",
          "data": {
            "text/plain": [
              "<Figure size 1400x700 with 1 Axes>"
            ],
            "image/png": "[encoded data removed]"
          },
          "metadata": {}
        }
      ]
    },
    {
      "cell_type": "code",
      "source": [
        "data_anomaly_labeled = data_copy[['created_at', 'cpu_used']]\n",
        "data_anomaly_labeled['is_anomaly'] = [False for _ in range(len(data_anomaly_labeled))]\n",
        "data_anomaly_labeled['is_anomaly'].iloc[updated_out_index] = True\n",
        "data_anomaly_labeled['cpu_used'] = (data_anomaly_labeled['cpu_used']*100).round(4).astype(str) + \"%\""
      ],
      "metadata": {
        "colab": {
          "base_uri": "https://localhost:8080/",
          "height": 424
        },
        "id": "rbSVbNfgC1wz",
        "outputId": "e60fab08-dc4e-4173-99ca-d3864db86d40"
      },
      "execution_count": 31,
      "outputs": [
        {
          "output_type": "execute_result",
          "data": {
            "text/plain": [
              "                created_at cpu_used  is_anomaly\n",
              "0      2022-01-01 00:00:00     0.2%       False\n",
              "1      2022-01-01 00:05:00     0.2%       False\n",
              "2      2022-01-01 00:10:00    0.19%       False\n",
              "3      2022-01-01 00:15:00     0.2%       False\n",
              "4      2022-01-01 00:20:00     0.2%       False\n",
              "...                    ...      ...         ...\n",
              "140348 2023-05-04 03:05:00    6.85%       False\n",
              "140349 2023-05-04 03:10:00    7.43%       False\n",
              "140350 2023-05-04 03:15:00    7.73%       False\n",
              "140351 2023-05-04 03:20:00    7.24%       False\n",
              "140352 2023-05-04 03:25:00    7.45%       False\n",
              "\n",
              "[140353 rows x 3 columns]"
            ],
            "text/html": [
              "\n",
              "  <div id=\"df-82ec4ea7-d28d-4831-8938-08957d4f475d\">\n",
              "    <div class=\"colab-df-container\">\n",
              "      <div>\n",
              "<style scoped>\n",
              "    .dataframe tbody tr th:only-of-type {\n",
              "        vertical-align: middle;\n",
              "    }\n",
              "\n",
              "    .dataframe tbody tr th {\n",
              "        vertical-align: top;\n",
              "    }\n",
              "\n",
              "    .dataframe thead th {\n",
              "        text-align: right;\n",
              "    }\n",
              "</style>\n",
              "<table border=\"1\" class=\"dataframe\">\n",
              "  <thead>\n",
              "    <tr style=\"text-align: right;\">\n",
              "      <th></th>\n",
              "      <th>created_at</th>\n",
              "      <th>cpu_used</th>\n",
              "      <th>is_anomaly</th>\n",
              "    </tr>\n",
              "  </thead>\n",
              "  <tbody>\n",
              "    <tr>\n",
              "      <th>0</th>\n",
              "      <td>2022-01-01 00:00:00</td>\n",
              "      <td>0.2%</td>\n",
              "      <td>False</td>\n",
              "    </tr>\n",
              "    <tr>\n",
              "      <th>1</th>\n",
              "      <td>2022-01-01 00:05:00</td>\n",
              "      <td>0.2%</td>\n",
              "      <td>False</td>\n",
              "    </tr>\n",
              "    <tr>\n",
              "      <th>2</th>\n",
              "      <td>2022-01-01 00:10:00</td>\n",
              "      <td>0.19%</td>\n",
              "      <td>False</td>\n",
              "    </tr>\n",
              "    <tr>\n",
              "      <th>3</th>\n",
              "      <td>2022-01-01 00:15:00</td>\n",
              "      <td>0.2%</td>\n",
              "      <td>False</td>\n",
              "    </tr>\n",
              "    <tr>\n",
              "      <th>4</th>\n",
              "      <td>2022-01-01 00:20:00</td>\n",
              "      <td>0.2%</td>\n",
              "      <td>False</td>\n",
              "    </tr>\n",
              "    <tr>\n",
              "      <th>...</th>\n",
              "      <td>...</td>\n",
              "      <td>...</td>\n",
              "      <td>...</td>\n",
              "    </tr>\n",
              "    <tr>\n",
              "      <th>140348</th>\n",
              "      <td>2023-05-04 03:05:00</td>\n",
              "      <td>6.85%</td>\n",
              "      <td>False</td>\n",
              "    </tr>\n",
              "    <tr>\n",
              "      <th>140349</th>\n",
              "      <td>2023-05-04 03:10:00</td>\n",
              "      <td>7.43%</td>\n",
              "      <td>False</td>\n",
              "    </tr>\n",
              "    <tr>\n",
              "      <th>140350</th>\n",
              "      <td>2023-05-04 03:15:00</td>\n",
              "      <td>7.73%</td>\n",
              "      <td>False</td>\n",
              "    </tr>\n",
              "    <tr>\n",
              "      <th>140351</th>\n",
              "      <td>2023-05-04 03:20:00</td>\n",
              "      <td>7.24%</td>\n",
              "      <td>False</td>\n",
              "    </tr>\n",
              "    <tr>\n",
              "      <th>140352</th>\n",
              "      <td>2023-05-04 03:25:00</td>\n",
              "      <td>7.45%</td>\n",
              "      <td>False</td>\n",
              "    </tr>\n",
              "  </tbody>\n",
              "</table>\n",
              "<p>140353 rows × 3 columns</p>\n",
              "</div>\n",
              "      <button class=\"colab-df-convert\" onclick=\"convertToInteractive('df-82ec4ea7-d28d-4831-8938-08957d4f475d')\"\n",
              "              title=\"Convert this dataframe to an interactive table.\"\n",
              "              style=\"display:none;\">\n",
              "        \n",
              "  <svg xmlns=\"http://www.w3.org/2000/svg\" height=\"24px\"viewBox=\"0 0 24 24\"\n",
              "       width=\"24px\">\n",
              "    <path d=\"M0 0h24v24H0V0z\" fill=\"none\"/>\n",
              "    <path d=\"M18.56 5.44l.94 2.06.94-2.06 2.06-.94-2.06-.94-.94-2.06-.94 2.06-2.06.94zm-11 1L8.5 8.5l.94-2.06 2.06-.94-2.06-.94L8.5 2.5l-.94 2.06-2.06.94zm10 10l.94 2.06.94-2.06 2.06-.94-2.06-.94-.94-2.06-.94 2.06-2.06.94z\"/><path d=\"M17.41 7.96l-1.37-1.37c-.4-.4-.92-.59-1.43-.59-.52 0-1.04.2-1.43.59L10.3 9.45l-7.72 7.72c-.78.78-.78 2.05 0 2.83L4 21.41c.39.39.9.59 1.41.59.51 0 1.02-.2 1.41-.59l7.78-7.78 2.81-2.81c.8-.78.8-2.07 0-2.86zM5.41 20L4 18.59l7.72-7.72 1.47 1.35L5.41 20z\"/>\n",
              "  </svg>\n",
              "      </button>\n",
              "      \n",
              "  <style>\n",
              "    .colab-df-container {\n",
              "      display:flex;\n",
              "      flex-wrap:wrap;\n",
              "      gap: 12px;\n",
              "    }\n",
              "\n",
              "    .colab-df-convert {\n",
              "      background-color: #E8F0FE;\n",
              "      border: none;\n",
              "      border-radius: 50%;\n",
              "      cursor: pointer;\n",
              "      display: none;\n",
              "      fill: #1967D2;\n",
              "      height: 32px;\n",
              "      padding: 0 0 0 0;\n",
              "      width: 32px;\n",
              "    }\n",
              "\n",
              "    .colab-df-convert:hover {\n",
              "      background-color: #E2EBFA;\n",
              "      box-shadow: 0px 1px 2px rgba(60, 64, 67, 0.3), 0px 1px 3px 1px rgba(60, 64, 67, 0.15);\n",
              "      fill: #174EA6;\n",
              "    }\n",
              "\n",
              "    [theme=dark] .colab-df-convert {\n",
              "      background-color: #3B4455;\n",
              "      fill: #D2E3FC;\n",
              "    }\n",
              "\n",
              "    [theme=dark] .colab-df-convert:hover {\n",
              "      background-color: #434B5C;\n",
              "      box-shadow: 0px 1px 3px 1px rgba(0, 0, 0, 0.15);\n",
              "      filter: drop-shadow(0px 1px 2px rgba(0, 0, 0, 0.3));\n",
              "      fill: #FFFFFF;\n",
              "    }\n",
              "  </style>\n",
              "\n",
              "      <script>\n",
              "        const buttonEl =\n",
              "          document.querySelector('#df-82ec4ea7-d28d-4831-8938-08957d4f475d button.colab-df-convert');\n",
              "        buttonEl.style.display =\n",
              "          google.colab.kernel.accessAllowed ? 'block' : 'none';\n",
              "\n",
              "        async function convertToInteractive(key) {\n",
              "          const element = document.querySelector('#df-82ec4ea7-d28d-4831-8938-08957d4f475d');\n",
              "          const dataTable =\n",
              "            await google.colab.kernel.invokeFunction('convertToInteractive',\n",
              "                                                     [key], {});\n",
              "          if (!dataTable) return;\n",
              "\n",
              "          const docLinkHtml = 'Like what you see? Visit the ' +\n",
              "            '<a target=\"_blank\" href=https://colab.research.google.com/notebooks/data_table.ipynb>data table notebook</a>'\n",
              "            + ' to learn more about interactive tables.';\n",
              "          element.innerHTML = '';\n",
              "          dataTable['output_type'] = 'display_data';\n",
              "          await google.colab.output.renderOutput(dataTable, element);\n",
              "          const docLink = document.createElement('div');\n",
              "          docLink.innerHTML = docLinkHtml;\n",
              "          element.appendChild(docLink);\n",
              "        }\n",
              "      </script>\n",
              "    </div>\n",
              "  </div>\n",
              "  "
            ]
          },
          "metadata": {},
          "execution_count": 31
        }
      ]
    },
    {
      "cell_type": "code",
      "source": [
        "# Saving Anomaly Labeled Data\n",
        "data_anomaly_labeled.to_csv('anomaly_detection.csv', index=False)"
      ],
      "metadata": {
        "id": "vv1l16chrZLs"
      },
      "execution_count": null,
      "outputs": []
    },
    {
      "cell_type": "markdown",
      "source": [
        "## Cost Projection"
      ],
      "metadata": {
        "id": "TqveuPrpHGeM"
      }
    },
    {
      "cell_type": "code",
      "source": [
        "forecasts_df = forecasts.copy()"
      ],
      "metadata": {
        "id": "Ro-GzorjH5_x",
        "colab": {
          "base_uri": "https://localhost:8080/",
          "height": 802
        },
        "outputId": "40851dc3-ce08-4844-d305-a516adb96a4e"
      },
      "execution_count": 33,
      "outputs": [
        {
          "output_type": "execute_result",
          "data": {
            "text/plain": [
              "                 Timestamp  Forecasts\n",
              "140353 2023-05-04 04:25:00   0.074747\n",
              "140354 2023-05-04 05:25:00   0.073141\n",
              "140355 2023-05-04 06:25:00   0.074744\n",
              "140356 2023-05-04 07:25:00   0.073144\n",
              "140357 2023-05-04 08:25:00   0.074742\n",
              "140358 2023-05-04 09:25:00   0.073147\n",
              "140359 2023-05-04 10:25:00   0.074739\n",
              "140360 2023-05-04 11:25:00   0.073150\n",
              "140361 2023-05-04 12:25:00   0.074736\n",
              "140362 2023-05-04 13:25:00   0.073153\n",
              "140363 2023-05-04 14:25:00   0.074733\n",
              "140364 2023-05-04 15:25:00   0.073155\n",
              "140365 2023-05-04 16:25:00   0.074730\n",
              "140366 2023-05-04 17:25:00   0.073158\n",
              "140367 2023-05-04 18:25:00   0.074727\n",
              "140368 2023-05-04 19:25:00   0.073161\n",
              "140369 2023-05-04 20:25:00   0.074724\n",
              "140370 2023-05-04 21:25:00   0.073164\n",
              "140371 2023-05-04 22:25:00   0.074721\n",
              "140372 2023-05-04 23:25:00   0.073167\n",
              "140373 2023-05-05 00:25:00   0.074718\n",
              "140374 2023-05-05 01:25:00   0.073170\n",
              "140375 2023-05-05 02:25:00   0.074715\n",
              "140376 2023-05-05 03:25:00   0.073173"
            ],
            "text/html": [
              "\n",
              "  <div id=\"df-c67a2dab-39e5-4280-9f7d-0c60734ff7f7\">\n",
              "    <div class=\"colab-df-container\">\n",
              "      <div>\n",
              "<style scoped>\n",
              "    .dataframe tbody tr th:only-of-type {\n",
              "        vertical-align: middle;\n",
              "    }\n",
              "\n",
              "    .dataframe tbody tr th {\n",
              "        vertical-align: top;\n",
              "    }\n",
              "\n",
              "    .dataframe thead th {\n",
              "        text-align: right;\n",
              "    }\n",
              "</style>\n",
              "<table border=\"1\" class=\"dataframe\">\n",
              "  <thead>\n",
              "    <tr style=\"text-align: right;\">\n",
              "      <th></th>\n",
              "      <th>Timestamp</th>\n",
              "      <th>Forecasts</th>\n",
              "    </tr>\n",
              "  </thead>\n",
              "  <tbody>\n",
              "    <tr>\n",
              "      <th>140353</th>\n",
              "      <td>2023-05-04 04:25:00</td>\n",
              "      <td>0.074747</td>\n",
              "    </tr>\n",
              "    <tr>\n",
              "      <th>140354</th>\n",
              "      <td>2023-05-04 05:25:00</td>\n",
              "      <td>0.073141</td>\n",
              "    </tr>\n",
              "    <tr>\n",
              "      <th>140355</th>\n",
              "      <td>2023-05-04 06:25:00</td>\n",
              "      <td>0.074744</td>\n",
              "    </tr>\n",
              "    <tr>\n",
              "      <th>140356</th>\n",
              "      <td>2023-05-04 07:25:00</td>\n",
              "      <td>0.073144</td>\n",
              "    </tr>\n",
              "    <tr>\n",
              "      <th>140357</th>\n",
              "      <td>2023-05-04 08:25:00</td>\n",
              "      <td>0.074742</td>\n",
              "    </tr>\n",
              "    <tr>\n",
              "      <th>140358</th>\n",
              "      <td>2023-05-04 09:25:00</td>\n",
              "      <td>0.073147</td>\n",
              "    </tr>\n",
              "    <tr>\n",
              "      <th>140359</th>\n",
              "      <td>2023-05-04 10:25:00</td>\n",
              "      <td>0.074739</td>\n",
              "    </tr>\n",
              "    <tr>\n",
              "      <th>140360</th>\n",
              "      <td>2023-05-04 11:25:00</td>\n",
              "      <td>0.073150</td>\n",
              "    </tr>\n",
              "    <tr>\n",
              "      <th>140361</th>\n",
              "      <td>2023-05-04 12:25:00</td>\n",
              "      <td>0.074736</td>\n",
              "    </tr>\n",
              "    <tr>\n",
              "      <th>140362</th>\n",
              "      <td>2023-05-04 13:25:00</td>\n",
              "      <td>0.073153</td>\n",
              "    </tr>\n",
              "    <tr>\n",
              "      <th>140363</th>\n",
              "      <td>2023-05-04 14:25:00</td>\n",
              "      <td>0.074733</td>\n",
              "    </tr>\n",
              "    <tr>\n",
              "      <th>140364</th>\n",
              "      <td>2023-05-04 15:25:00</td>\n",
              "      <td>0.073155</td>\n",
              "    </tr>\n",
              "    <tr>\n",
              "      <th>140365</th>\n",
              "      <td>2023-05-04 16:25:00</td>\n",
              "      <td>0.074730</td>\n",
              "    </tr>\n",
              "    <tr>\n",
              "      <th>140366</th>\n",
              "      <td>2023-05-04 17:25:00</td>\n",
              "      <td>0.073158</td>\n",
              "    </tr>\n",
              "    <tr>\n",
              "      <th>140367</th>\n",
              "      <td>2023-05-04 18:25:00</td>\n",
              "      <td>0.074727</td>\n",
              "    </tr>\n",
              "    <tr>\n",
              "      <th>140368</th>\n",
              "      <td>2023-05-04 19:25:00</td>\n",
              "      <td>0.073161</td>\n",
              "    </tr>\n",
              "    <tr>\n",
              "      <th>140369</th>\n",
              "      <td>2023-05-04 20:25:00</td>\n",
              "      <td>0.074724</td>\n",
              "    </tr>\n",
              "    <tr>\n",
              "      <th>140370</th>\n",
              "      <td>2023-05-04 21:25:00</td>\n",
              "      <td>0.073164</td>\n",
              "    </tr>\n",
              "    <tr>\n",
              "      <th>140371</th>\n",
              "      <td>2023-05-04 22:25:00</td>\n",
              "      <td>0.074721</td>\n",
              "    </tr>\n",
              "    <tr>\n",
              "      <th>140372</th>\n",
              "      <td>2023-05-04 23:25:00</td>\n",
              "      <td>0.073167</td>\n",
              "    </tr>\n",
              "    <tr>\n",
              "      <th>140373</th>\n",
              "      <td>2023-05-05 00:25:00</td>\n",
              "      <td>0.074718</td>\n",
              "    </tr>\n",
              "    <tr>\n",
              "      <th>140374</th>\n",
              "      <td>2023-05-05 01:25:00</td>\n",
              "      <td>0.073170</td>\n",
              "    </tr>\n",
              "    <tr>\n",
              "      <th>140375</th>\n",
              "      <td>2023-05-05 02:25:00</td>\n",
              "      <td>0.074715</td>\n",
              "    </tr>\n",
              "    <tr>\n",
              "      <th>140376</th>\n",
              "      <td>2023-05-05 03:25:00</td>\n",
              "      <td>0.073173</td>\n",
              "    </tr>\n",
              "  </tbody>\n",
              "</table>\n",
              "</div>\n",
              "      <button class=\"colab-df-convert\" onclick=\"convertToInteractive('df-c67a2dab-39e5-4280-9f7d-0c60734ff7f7')\"\n",
              "              title=\"Convert this dataframe to an interactive table.\"\n",
              "              style=\"display:none;\">\n",
              "        \n",
              "  <svg xmlns=\"http://www.w3.org/2000/svg\" height=\"24px\"viewBox=\"0 0 24 24\"\n",
              "       width=\"24px\">\n",
              "    <path d=\"M0 0h24v24H0V0z\" fill=\"none\"/>\n",
              "    <path d=\"M18.56 5.44l.94 2.06.94-2.06 2.06-.94-2.06-.94-.94-2.06-.94 2.06-2.06.94zm-11 1L8.5 8.5l.94-2.06 2.06-.94-2.06-.94L8.5 2.5l-.94 2.06-2.06.94zm10 10l.94 2.06.94-2.06 2.06-.94-2.06-.94-.94-2.06-.94 2.06-2.06.94z\"/><path d=\"M17.41 7.96l-1.37-1.37c-.4-.4-.92-.59-1.43-.59-.52 0-1.04.2-1.43.59L10.3 9.45l-7.72 7.72c-.78.78-.78 2.05 0 2.83L4 21.41c.39.39.9.59 1.41.59.51 0 1.02-.2 1.41-.59l7.78-7.78 2.81-2.81c.8-.78.8-2.07 0-2.86zM5.41 20L4 18.59l7.72-7.72 1.47 1.35L5.41 20z\"/>\n",
              "  </svg>\n",
              "      </button>\n",
              "      \n",
              "  <style>\n",
              "    .colab-df-container {\n",
              "      display:flex;\n",
              "      flex-wrap:wrap;\n",
              "      gap: 12px;\n",
              "    }\n",
              "\n",
              "    .colab-df-convert {\n",
              "      background-color: #E8F0FE;\n",
              "      border: none;\n",
              "      border-radius: 50%;\n",
              "      cursor: pointer;\n",
              "      display: none;\n",
              "      fill: #1967D2;\n",
              "      height: 32px;\n",
              "      padding: 0 0 0 0;\n",
              "      width: 32px;\n",
              "    }\n",
              "\n",
              "    .colab-df-convert:hover {\n",
              "      background-color: #E2EBFA;\n",
              "      box-shadow: 0px 1px 2px rgba(60, 64, 67, 0.3), 0px 1px 3px 1px rgba(60, 64, 67, 0.15);\n",
              "      fill: #174EA6;\n",
              "    }\n",
              "\n",
              "    [theme=dark] .colab-df-convert {\n",
              "      background-color: #3B4455;\n",
              "      fill: #D2E3FC;\n",
              "    }\n",
              "\n",
              "    [theme=dark] .colab-df-convert:hover {\n",
              "      background-color: #434B5C;\n",
              "      box-shadow: 0px 1px 3px 1px rgba(0, 0, 0, 0.15);\n",
              "      filter: drop-shadow(0px 1px 2px rgba(0, 0, 0, 0.3));\n",
              "      fill: #FFFFFF;\n",
              "    }\n",
              "  </style>\n",
              "\n",
              "      <script>\n",
              "        const buttonEl =\n",
              "          document.querySelector('#df-c67a2dab-39e5-4280-9f7d-0c60734ff7f7 button.colab-df-convert');\n",
              "        buttonEl.style.display =\n",
              "          google.colab.kernel.accessAllowed ? 'block' : 'none';\n",
              "\n",
              "        async function convertToInteractive(key) {\n",
              "          const element = document.querySelector('#df-c67a2dab-39e5-4280-9f7d-0c60734ff7f7');\n",
              "          const dataTable =\n",
              "            await google.colab.kernel.invokeFunction('convertToInteractive',\n",
              "                                                     [key], {});\n",
              "          if (!dataTable) return;\n",
              "\n",
              "          const docLinkHtml = 'Like what you see? Visit the ' +\n",
              "            '<a target=\"_blank\" href=https://colab.research.google.com/notebooks/data_table.ipynb>data table notebook</a>'\n",
              "            + ' to learn more about interactive tables.';\n",
              "          element.innerHTML = '';\n",
              "          dataTable['output_type'] = 'display_data';\n",
              "          await google.colab.output.renderOutput(dataTable, element);\n",
              "          const docLink = document.createElement('div');\n",
              "          docLink.innerHTML = docLinkHtml;\n",
              "          element.appendChild(docLink);\n",
              "        }\n",
              "      </script>\n",
              "    </div>\n",
              "  </div>\n",
              "  "
            ]
          },
          "metadata": {},
          "execution_count": 33
        }
      ]
    },
    {
      "cell_type": "code",
      "source": [
        "current_core = 1\n",
        "core_upgrade_options = {1: 2,\n",
        "                        2: 4,\n",
        "                        4: 6,\n",
        "                        6: 8}\n",
        "\n",
        "cost_options = {1: round(85000/720, 2),\n",
        "                2: round(200000/720, 2),\n",
        "                4: round(700000/720, 2),\n",
        "                6: round(720000/720, 2),\n",
        "                8: round(1500000/720, 2)}\n",
        "\n",
        "forecasts_df['Core'] = current_core\n",
        "forecasts_df['Core'].loc[forecasts_df['Forecasts'] >= 0.8] = core_upgrade_options[current_core]\n",
        "forecasts_df['Cost'] = forecasts_df['Core'].map(cost_options)\n",
        "\n",
        "total_cost = forecasts_df['Cost'].sum()"
      ],
      "metadata": {
        "id": "i9ajrhh7tU9d"
      },
      "execution_count": 43,
      "outputs": []
    },
    {
      "cell_type": "code",
      "source": [
        "# forecasts_df"
      ],
      "metadata": {
        "colab": {
          "base_uri": "https://localhost:8080/",
          "height": 802
        },
        "id": "2my_7pVlzwu-",
        "outputId": "4f24fd09-ac2a-4485-b133-65866e2ea0d3"
      },
      "execution_count": 47,
      "outputs": [
        {
          "output_type": "execute_result",
          "data": {
            "text/plain": [
              "                 Timestamp  Forecasts  Core    Cost\n",
              "140353 2023-05-04 04:25:00   0.074747     1  118.06\n",
              "140354 2023-05-04 05:25:00   0.073141     2  277.78\n",
              "140355 2023-05-04 06:25:00   0.074744     1  118.06\n",
              "140356 2023-05-04 07:25:00   0.073144     2  277.78\n",
              "140357 2023-05-04 08:25:00   0.074742     1  118.06\n",
              "140358 2023-05-04 09:25:00   0.073147     2  277.78\n",
              "140359 2023-05-04 10:25:00   0.074739     1  118.06\n",
              "140360 2023-05-04 11:25:00   0.073150     2  277.78\n",
              "140361 2023-05-04 12:25:00   0.074736     1  118.06\n",
              "140362 2023-05-04 13:25:00   0.073153     1  118.06\n",
              "140363 2023-05-04 14:25:00   0.074733     1  118.06\n",
              "140364 2023-05-04 15:25:00   0.073155     1  118.06\n",
              "140365 2023-05-04 16:25:00   0.074730     1  118.06\n",
              "140366 2023-05-04 17:25:00   0.073158     1  118.06\n",
              "140367 2023-05-04 18:25:00   0.074727     1  118.06\n",
              "140368 2023-05-04 19:25:00   0.073161     1  118.06\n",
              "140369 2023-05-04 20:25:00   0.074724     1  118.06\n",
              "140370 2023-05-04 21:25:00   0.073164     1  118.06\n",
              "140371 2023-05-04 22:25:00   0.074721     1  118.06\n",
              "140372 2023-05-04 23:25:00   0.073167     1  118.06\n",
              "140373 2023-05-05 00:25:00   0.074718     1  118.06\n",
              "140374 2023-05-05 01:25:00   0.073170     1  118.06\n",
              "140375 2023-05-05 02:25:00   0.074715     1  118.06\n",
              "140376 2023-05-05 03:25:00   0.073173     1  118.06"
            ],
            "text/html": [
              "\n",
              "  <div id=\"df-e19c2f11-cc76-4daf-a49b-f00f7a19daeb\">\n",
              "    <div class=\"colab-df-container\">\n",
              "      <div>\n",
              "<style scoped>\n",
              "    .dataframe tbody tr th:only-of-type {\n",
              "        vertical-align: middle;\n",
              "    }\n",
              "\n",
              "    .dataframe tbody tr th {\n",
              "        vertical-align: top;\n",
              "    }\n",
              "\n",
              "    .dataframe thead th {\n",
              "        text-align: right;\n",
              "    }\n",
              "</style>\n",
              "<table border=\"1\" class=\"dataframe\">\n",
              "  <thead>\n",
              "    <tr style=\"text-align: right;\">\n",
              "      <th></th>\n",
              "      <th>Timestamp</th>\n",
              "      <th>Forecasts</th>\n",
              "      <th>Core</th>\n",
              "      <th>Cost</th>\n",
              "    </tr>\n",
              "  </thead>\n",
              "  <tbody>\n",
              "    <tr>\n",
              "      <th>140353</th>\n",
              "      <td>2023-05-04 04:25:00</td>\n",
              "      <td>0.074747</td>\n",
              "      <td>1</td>\n",
              "      <td>118.06</td>\n",
              "    </tr>\n",
              "    <tr>\n",
              "      <th>140354</th>\n",
              "      <td>2023-05-04 05:25:00</td>\n",
              "      <td>0.073141</td>\n",
              "      <td>2</td>\n",
              "      <td>277.78</td>\n",
              "    </tr>\n",
              "    <tr>\n",
              "      <th>140355</th>\n",
              "      <td>2023-05-04 06:25:00</td>\n",
              "      <td>0.074744</td>\n",
              "      <td>1</td>\n",
              "      <td>118.06</td>\n",
              "    </tr>\n",
              "    <tr>\n",
              "      <th>140356</th>\n",
              "      <td>2023-05-04 07:25:00</td>\n",
              "      <td>0.073144</td>\n",
              "      <td>2</td>\n",
              "      <td>277.78</td>\n",
              "    </tr>\n",
              "    <tr>\n",
              "      <th>140357</th>\n",
              "      <td>2023-05-04 08:25:00</td>\n",
              "      <td>0.074742</td>\n",
              "      <td>1</td>\n",
              "      <td>118.06</td>\n",
              "    </tr>\n",
              "    <tr>\n",
              "      <th>140358</th>\n",
              "      <td>2023-05-04 09:25:00</td>\n",
              "      <td>0.073147</td>\n",
              "      <td>2</td>\n",
              "      <td>277.78</td>\n",
              "    </tr>\n",
              "    <tr>\n",
              "      <th>140359</th>\n",
              "      <td>2023-05-04 10:25:00</td>\n",
              "      <td>0.074739</td>\n",
              "      <td>1</td>\n",
              "      <td>118.06</td>\n",
              "    </tr>\n",
              "    <tr>\n",
              "      <th>140360</th>\n",
              "      <td>2023-05-04 11:25:00</td>\n",
              "      <td>0.073150</td>\n",
              "      <td>2</td>\n",
              "      <td>277.78</td>\n",
              "    </tr>\n",
              "    <tr>\n",
              "      <th>140361</th>\n",
              "      <td>2023-05-04 12:25:00</td>\n",
              "      <td>0.074736</td>\n",
              "      <td>1</td>\n",
              "      <td>118.06</td>\n",
              "    </tr>\n",
              "    <tr>\n",
              "      <th>140362</th>\n",
              "      <td>2023-05-04 13:25:00</td>\n",
              "      <td>0.073153</td>\n",
              "      <td>1</td>\n",
              "      <td>118.06</td>\n",
              "    </tr>\n",
              "    <tr>\n",
              "      <th>140363</th>\n",
              "      <td>2023-05-04 14:25:00</td>\n",
              "      <td>0.074733</td>\n",
              "      <td>1</td>\n",
              "      <td>118.06</td>\n",
              "    </tr>\n",
              "    <tr>\n",
              "      <th>140364</th>\n",
              "      <td>2023-05-04 15:25:00</td>\n",
              "      <td>0.073155</td>\n",
              "      <td>1</td>\n",
              "      <td>118.06</td>\n",
              "    </tr>\n",
              "    <tr>\n",
              "      <th>140365</th>\n",
              "      <td>2023-05-04 16:25:00</td>\n",
              "      <td>0.074730</td>\n",
              "      <td>1</td>\n",
              "      <td>118.06</td>\n",
              "    </tr>\n",
              "    <tr>\n",
              "      <th>140366</th>\n",
              "      <td>2023-05-04 17:25:00</td>\n",
              "      <td>0.073158</td>\n",
              "      <td>1</td>\n",
              "      <td>118.06</td>\n",
              "    </tr>\n",
              "    <tr>\n",
              "      <th>140367</th>\n",
              "      <td>2023-05-04 18:25:00</td>\n",
              "      <td>0.074727</td>\n",
              "      <td>1</td>\n",
              "      <td>118.06</td>\n",
              "    </tr>\n",
              "    <tr>\n",
              "      <th>140368</th>\n",
              "      <td>2023-05-04 19:25:00</td>\n",
              "      <td>0.073161</td>\n",
              "      <td>1</td>\n",
              "      <td>118.06</td>\n",
              "    </tr>\n",
              "    <tr>\n",
              "      <th>140369</th>\n",
              "      <td>2023-05-04 20:25:00</td>\n",
              "      <td>0.074724</td>\n",
              "      <td>1</td>\n",
              "      <td>118.06</td>\n",
              "    </tr>\n",
              "    <tr>\n",
              "      <th>140370</th>\n",
              "      <td>2023-05-04 21:25:00</td>\n",
              "      <td>0.073164</td>\n",
              "      <td>1</td>\n",
              "      <td>118.06</td>\n",
              "    </tr>\n",
              "    <tr>\n",
              "      <th>140371</th>\n",
              "      <td>2023-05-04 22:25:00</td>\n",
              "      <td>0.074721</td>\n",
              "      <td>1</td>\n",
              "      <td>118.06</td>\n",
              "    </tr>\n",
              "    <tr>\n",
              "      <th>140372</th>\n",
              "      <td>2023-05-04 23:25:00</td>\n",
              "      <td>0.073167</td>\n",
              "      <td>1</td>\n",
              "      <td>118.06</td>\n",
              "    </tr>\n",
              "    <tr>\n",
              "      <th>140373</th>\n",
              "      <td>2023-05-05 00:25:00</td>\n",
              "      <td>0.074718</td>\n",
              "      <td>1</td>\n",
              "      <td>118.06</td>\n",
              "    </tr>\n",
              "    <tr>\n",
              "      <th>140374</th>\n",
              "      <td>2023-05-05 01:25:00</td>\n",
              "      <td>0.073170</td>\n",
              "      <td>1</td>\n",
              "      <td>118.06</td>\n",
              "    </tr>\n",
              "    <tr>\n",
              "      <th>140375</th>\n",
              "      <td>2023-05-05 02:25:00</td>\n",
              "      <td>0.074715</td>\n",
              "      <td>1</td>\n",
              "      <td>118.06</td>\n",
              "    </tr>\n",
              "    <tr>\n",
              "      <th>140376</th>\n",
              "      <td>2023-05-05 03:25:00</td>\n",
              "      <td>0.073173</td>\n",
              "      <td>1</td>\n",
              "      <td>118.06</td>\n",
              "    </tr>\n",
              "  </tbody>\n",
              "</table>\n",
              "</div>\n",
              "      <button class=\"colab-df-convert\" onclick=\"convertToInteractive('df-e19c2f11-cc76-4daf-a49b-f00f7a19daeb')\"\n",
              "              title=\"Convert this dataframe to an interactive table.\"\n",
              "              style=\"display:none;\">\n",
              "        \n",
              "  <svg xmlns=\"http://www.w3.org/2000/svg\" height=\"24px\"viewBox=\"0 0 24 24\"\n",
              "       width=\"24px\">\n",
              "    <path d=\"M0 0h24v24H0V0z\" fill=\"none\"/>\n",
              "    <path d=\"M18.56 5.44l.94 2.06.94-2.06 2.06-.94-2.06-.94-.94-2.06-.94 2.06-2.06.94zm-11 1L8.5 8.5l.94-2.06 2.06-.94-2.06-.94L8.5 2.5l-.94 2.06-2.06.94zm10 10l.94 2.06.94-2.06 2.06-.94-2.06-.94-.94-2.06-.94 2.06-2.06.94z\"/><path d=\"M17.41 7.96l-1.37-1.37c-.4-.4-.92-.59-1.43-.59-.52 0-1.04.2-1.43.59L10.3 9.45l-7.72 7.72c-.78.78-.78 2.05 0 2.83L4 21.41c.39.39.9.59 1.41.59.51 0 1.02-.2 1.41-.59l7.78-7.78 2.81-2.81c.8-.78.8-2.07 0-2.86zM5.41 20L4 18.59l7.72-7.72 1.47 1.35L5.41 20z\"/>\n",
              "  </svg>\n",
              "      </button>\n",
              "      \n",
              "  <style>\n",
              "    .colab-df-container {\n",
              "      display:flex;\n",
              "      flex-wrap:wrap;\n",
              "      gap: 12px;\n",
              "    }\n",
              "\n",
              "    .colab-df-convert {\n",
              "      background-color: #E8F0FE;\n",
              "      border: none;\n",
              "      border-radius: 50%;\n",
              "      cursor: pointer;\n",
              "      display: none;\n",
              "      fill: #1967D2;\n",
              "      height: 32px;\n",
              "      padding: 0 0 0 0;\n",
              "      width: 32px;\n",
              "    }\n",
              "\n",
              "    .colab-df-convert:hover {\n",
              "      background-color: #E2EBFA;\n",
              "      box-shadow: 0px 1px 2px rgba(60, 64, 67, 0.3), 0px 1px 3px 1px rgba(60, 64, 67, 0.15);\n",
              "      fill: #174EA6;\n",
              "    }\n",
              "\n",
              "    [theme=dark] .colab-df-convert {\n",
              "      background-color: #3B4455;\n",
              "      fill: #D2E3FC;\n",
              "    }\n",
              "\n",
              "    [theme=dark] .colab-df-convert:hover {\n",
              "      background-color: #434B5C;\n",
              "      box-shadow: 0px 1px 3px 1px rgba(0, 0, 0, 0.15);\n",
              "      filter: drop-shadow(0px 1px 2px rgba(0, 0, 0, 0.3));\n",
              "      fill: #FFFFFF;\n",
              "    }\n",
              "  </style>\n",
              "\n",
              "      <script>\n",
              "        const buttonEl =\n",
              "          document.querySelector('#df-e19c2f11-cc76-4daf-a49b-f00f7a19daeb button.colab-df-convert');\n",
              "        buttonEl.style.display =\n",
              "          google.colab.kernel.accessAllowed ? 'block' : 'none';\n",
              "\n",
              "        async function convertToInteractive(key) {\n",
              "          const element = document.querySelector('#df-e19c2f11-cc76-4daf-a49b-f00f7a19daeb');\n",
              "          const dataTable =\n",
              "            await google.colab.kernel.invokeFunction('convertToInteractive',\n",
              "                                                     [key], {});\n",
              "          if (!dataTable) return;\n",
              "\n",
              "          const docLinkHtml = 'Like what you see? Visit the ' +\n",
              "            '<a target=\"_blank\" href=https://colab.research.google.com/notebooks/data_table.ipynb>data table notebook</a>'\n",
              "            + ' to learn more about interactive tables.';\n",
              "          element.innerHTML = '';\n",
              "          dataTable['output_type'] = 'display_data';\n",
              "          await google.colab.output.renderOutput(dataTable, element);\n",
              "          const docLink = document.createElement('div');\n",
              "          docLink.innerHTML = docLinkHtml;\n",
              "          element.appendChild(docLink);\n",
              "        }\n",
              "      </script>\n",
              "    </div>\n",
              "  </div>\n",
              "  "
            ]
          },
          "metadata": {},
          "execution_count": 47
        }
      ]
    },
    {
      "cell_type": "code",
      "source": [
        "print(f'Total Estimated Forecasted Cost: Rp{total_cost:.2f}')"
      ],
      "metadata": {
        "colab": {
          "base_uri": "https://localhost:8080/"
        },
        "id": "a2D8v6p-zDDF",
        "outputId": "37355aaa-92d5-483c-9c54-7c825b0df666"
      },
      "execution_count": 46,
      "outputs": [
        {
          "output_type": "stream",
          "name": "stdout",
          "text": [
            "Total Estimated Forecasted Cost: Rp3472.32\n"
          ]
        }
      ]
    },
    {
      "cell_type": "code",
      "source": [
        "# Saving total estimated cost projection\n",
        "forecasts_df.to_csv('cost_projection.csv', index=False)"
      ],
      "metadata": {
        "id": "UybdwdxNzmSw"
      },
      "execution_count": null,
      "outputs": []
    }
  ],
  "metadata": {
    "colab": {
      "provenance": [],
      "collapsed_sections": [
        "v2k4AdKVmpBQ",
        "oRES8x0GmpBS",
        "qYmapH9xmpBT",
        "4NkCz6NompBU",
        "DFb0H5cYmpBV",
        "zS_2UZi2mpBW",
        "UltpO8pGmpBX",
        "5TLGmcogmpBz",
        "GdC1T2d1mpB2"
      ],
      "toc_visible": true
    },
    "kernelspec": {
      "display_name": "Python 3 (ipykernel)",
      "language": "python",
      "name": "python3"
    },
    "language_info": {
      "codemirror_mode": {
        "name": "ipython",
        "version": 3
      },
      "file_extension": ".py",
      "mimetype": "text/x-python",
      "name": "python",
      "nbconvert_exporter": "python",
      "pygments_lexer": "ipython3",
      "version": "3.9.13"
    }
  },
  "nbformat": 4,
  "nbformat_minor": 0
}